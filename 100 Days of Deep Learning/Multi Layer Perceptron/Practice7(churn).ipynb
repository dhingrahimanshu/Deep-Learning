{
 "cells": [
  {
   "cell_type": "code",
   "execution_count": 1,
   "id": "initial_id",
   "metadata": {
    "collapsed": true,
    "ExecuteTime": {
     "end_time": "2023-09-16T11:00:05.050546800Z",
     "start_time": "2023-09-16T11:00:04.747752200Z"
    }
   },
   "outputs": [],
   "source": [
    "import pandas as pd\n",
    "import numpy as np"
   ]
  },
  {
   "cell_type": "code",
   "execution_count": 2,
   "outputs": [],
   "source": [
    "df = pd.read_csv('churn.csv')"
   ],
   "metadata": {
    "collapsed": false,
    "ExecuteTime": {
     "end_time": "2023-09-16T11:00:12.942201300Z",
     "start_time": "2023-09-16T11:00:12.916245Z"
    }
   },
   "id": "d5efd7ffe49c5722"
  },
  {
   "cell_type": "code",
   "execution_count": 3,
   "outputs": [
    {
     "data": {
      "text/plain": "   RowNumber  CustomerId   Surname  CreditScore Geography  Gender  Age  \\\n0          1    15634602  Hargrave          619    France  Female   42   \n1          2    15647311      Hill          608     Spain  Female   41   \n2          3    15619304      Onio          502    France  Female   42   \n3          4    15701354      Boni          699    France  Female   39   \n4          5    15737888  Mitchell          850     Spain  Female   43   \n\n   Tenure    Balance  NumOfProducts  HasCrCard  IsActiveMember  \\\n0       2       0.00              1          1               1   \n1       1   83807.86              1          0               1   \n2       8  159660.80              3          1               0   \n3       1       0.00              2          0               0   \n4       2  125510.82              1          1               1   \n\n   EstimatedSalary  Exited  \n0        101348.88       1  \n1        112542.58       0  \n2        113931.57       1  \n3         93826.63       0  \n4         79084.10       0  ",
      "text/html": "<div>\n<style scoped>\n    .dataframe tbody tr th:only-of-type {\n        vertical-align: middle;\n    }\n\n    .dataframe tbody tr th {\n        vertical-align: top;\n    }\n\n    .dataframe thead th {\n        text-align: right;\n    }\n</style>\n<table border=\"1\" class=\"dataframe\">\n  <thead>\n    <tr style=\"text-align: right;\">\n      <th></th>\n      <th>RowNumber</th>\n      <th>CustomerId</th>\n      <th>Surname</th>\n      <th>CreditScore</th>\n      <th>Geography</th>\n      <th>Gender</th>\n      <th>Age</th>\n      <th>Tenure</th>\n      <th>Balance</th>\n      <th>NumOfProducts</th>\n      <th>HasCrCard</th>\n      <th>IsActiveMember</th>\n      <th>EstimatedSalary</th>\n      <th>Exited</th>\n    </tr>\n  </thead>\n  <tbody>\n    <tr>\n      <th>0</th>\n      <td>1</td>\n      <td>15634602</td>\n      <td>Hargrave</td>\n      <td>619</td>\n      <td>France</td>\n      <td>Female</td>\n      <td>42</td>\n      <td>2</td>\n      <td>0.00</td>\n      <td>1</td>\n      <td>1</td>\n      <td>1</td>\n      <td>101348.88</td>\n      <td>1</td>\n    </tr>\n    <tr>\n      <th>1</th>\n      <td>2</td>\n      <td>15647311</td>\n      <td>Hill</td>\n      <td>608</td>\n      <td>Spain</td>\n      <td>Female</td>\n      <td>41</td>\n      <td>1</td>\n      <td>83807.86</td>\n      <td>1</td>\n      <td>0</td>\n      <td>1</td>\n      <td>112542.58</td>\n      <td>0</td>\n    </tr>\n    <tr>\n      <th>2</th>\n      <td>3</td>\n      <td>15619304</td>\n      <td>Onio</td>\n      <td>502</td>\n      <td>France</td>\n      <td>Female</td>\n      <td>42</td>\n      <td>8</td>\n      <td>159660.80</td>\n      <td>3</td>\n      <td>1</td>\n      <td>0</td>\n      <td>113931.57</td>\n      <td>1</td>\n    </tr>\n    <tr>\n      <th>3</th>\n      <td>4</td>\n      <td>15701354</td>\n      <td>Boni</td>\n      <td>699</td>\n      <td>France</td>\n      <td>Female</td>\n      <td>39</td>\n      <td>1</td>\n      <td>0.00</td>\n      <td>2</td>\n      <td>0</td>\n      <td>0</td>\n      <td>93826.63</td>\n      <td>0</td>\n    </tr>\n    <tr>\n      <th>4</th>\n      <td>5</td>\n      <td>15737888</td>\n      <td>Mitchell</td>\n      <td>850</td>\n      <td>Spain</td>\n      <td>Female</td>\n      <td>43</td>\n      <td>2</td>\n      <td>125510.82</td>\n      <td>1</td>\n      <td>1</td>\n      <td>1</td>\n      <td>79084.10</td>\n      <td>0</td>\n    </tr>\n  </tbody>\n</table>\n</div>"
     },
     "execution_count": 3,
     "metadata": {},
     "output_type": "execute_result"
    }
   ],
   "source": [
    "df.head()"
   ],
   "metadata": {
    "collapsed": false,
    "ExecuteTime": {
     "end_time": "2023-09-16T11:00:15.669400500Z",
     "start_time": "2023-09-16T11:00:15.653666500Z"
    }
   },
   "id": "a8d089874db15180"
  },
  {
   "cell_type": "code",
   "execution_count": 4,
   "outputs": [
    {
     "data": {
      "text/plain": "0"
     },
     "execution_count": 4,
     "metadata": {},
     "output_type": "execute_result"
    }
   ],
   "source": [
    "df.duplicated().sum()"
   ],
   "metadata": {
    "collapsed": false,
    "ExecuteTime": {
     "end_time": "2023-09-16T11:00:21.626549700Z",
     "start_time": "2023-09-16T11:00:21.605687700Z"
    }
   },
   "id": "bf560a55945d4ac6"
  },
  {
   "cell_type": "code",
   "execution_count": 5,
   "outputs": [
    {
     "data": {
      "text/plain": "RowNumber          0\nCustomerId         0\nSurname            0\nCreditScore        0\nGeography          0\nGender             0\nAge                0\nTenure             0\nBalance            0\nNumOfProducts      0\nHasCrCard          0\nIsActiveMember     0\nEstimatedSalary    0\nExited             0\ndtype: int64"
     },
     "execution_count": 5,
     "metadata": {},
     "output_type": "execute_result"
    }
   ],
   "source": [
    "df.isnull().sum()"
   ],
   "metadata": {
    "collapsed": false,
    "ExecuteTime": {
     "end_time": "2023-09-16T11:00:28.873917500Z",
     "start_time": "2023-09-16T11:00:28.858023Z"
    }
   },
   "id": "58e49b99b881f6ec"
  },
  {
   "cell_type": "code",
   "execution_count": 7,
   "outputs": [
    {
     "data": {
      "text/plain": "Geography\nFrance     5014\nGermany    2509\nSpain      2477\nName: count, dtype: int64"
     },
     "execution_count": 7,
     "metadata": {},
     "output_type": "execute_result"
    }
   ],
   "source": [
    "df['Geography'].value_counts()"
   ],
   "metadata": {
    "collapsed": false,
    "ExecuteTime": {
     "end_time": "2023-09-16T11:00:46.665287Z",
     "start_time": "2023-09-16T11:00:46.649171600Z"
    }
   },
   "id": "93070c287666c4c9"
  },
  {
   "cell_type": "code",
   "execution_count": 8,
   "outputs": [
    {
     "data": {
      "text/plain": "Gender\nMale      5457\nFemale    4543\nName: count, dtype: int64"
     },
     "execution_count": 8,
     "metadata": {},
     "output_type": "execute_result"
    }
   ],
   "source": [
    "df['Gender'].value_counts()"
   ],
   "metadata": {
    "collapsed": false,
    "ExecuteTime": {
     "end_time": "2023-09-16T11:00:56.265440900Z",
     "start_time": "2023-09-16T11:00:56.257577600Z"
    }
   },
   "id": "482f1852f0f2544c"
  },
  {
   "cell_type": "code",
   "execution_count": 9,
   "outputs": [
    {
     "data": {
      "text/plain": "   RowNumber  CustomerId   Surname  CreditScore Geography  Gender  Age  \\\n0          1    15634602  Hargrave          619    France  Female   42   \n1          2    15647311      Hill          608     Spain  Female   41   \n2          3    15619304      Onio          502    France  Female   42   \n3          4    15701354      Boni          699    France  Female   39   \n4          5    15737888  Mitchell          850     Spain  Female   43   \n\n   Tenure    Balance  NumOfProducts  HasCrCard  IsActiveMember  \\\n0       2       0.00              1          1               1   \n1       1   83807.86              1          0               1   \n2       8  159660.80              3          1               0   \n3       1       0.00              2          0               0   \n4       2  125510.82              1          1               1   \n\n   EstimatedSalary  Exited  \n0        101348.88       1  \n1        112542.58       0  \n2        113931.57       1  \n3         93826.63       0  \n4         79084.10       0  ",
      "text/html": "<div>\n<style scoped>\n    .dataframe tbody tr th:only-of-type {\n        vertical-align: middle;\n    }\n\n    .dataframe tbody tr th {\n        vertical-align: top;\n    }\n\n    .dataframe thead th {\n        text-align: right;\n    }\n</style>\n<table border=\"1\" class=\"dataframe\">\n  <thead>\n    <tr style=\"text-align: right;\">\n      <th></th>\n      <th>RowNumber</th>\n      <th>CustomerId</th>\n      <th>Surname</th>\n      <th>CreditScore</th>\n      <th>Geography</th>\n      <th>Gender</th>\n      <th>Age</th>\n      <th>Tenure</th>\n      <th>Balance</th>\n      <th>NumOfProducts</th>\n      <th>HasCrCard</th>\n      <th>IsActiveMember</th>\n      <th>EstimatedSalary</th>\n      <th>Exited</th>\n    </tr>\n  </thead>\n  <tbody>\n    <tr>\n      <th>0</th>\n      <td>1</td>\n      <td>15634602</td>\n      <td>Hargrave</td>\n      <td>619</td>\n      <td>France</td>\n      <td>Female</td>\n      <td>42</td>\n      <td>2</td>\n      <td>0.00</td>\n      <td>1</td>\n      <td>1</td>\n      <td>1</td>\n      <td>101348.88</td>\n      <td>1</td>\n    </tr>\n    <tr>\n      <th>1</th>\n      <td>2</td>\n      <td>15647311</td>\n      <td>Hill</td>\n      <td>608</td>\n      <td>Spain</td>\n      <td>Female</td>\n      <td>41</td>\n      <td>1</td>\n      <td>83807.86</td>\n      <td>1</td>\n      <td>0</td>\n      <td>1</td>\n      <td>112542.58</td>\n      <td>0</td>\n    </tr>\n    <tr>\n      <th>2</th>\n      <td>3</td>\n      <td>15619304</td>\n      <td>Onio</td>\n      <td>502</td>\n      <td>France</td>\n      <td>Female</td>\n      <td>42</td>\n      <td>8</td>\n      <td>159660.80</td>\n      <td>3</td>\n      <td>1</td>\n      <td>0</td>\n      <td>113931.57</td>\n      <td>1</td>\n    </tr>\n    <tr>\n      <th>3</th>\n      <td>4</td>\n      <td>15701354</td>\n      <td>Boni</td>\n      <td>699</td>\n      <td>France</td>\n      <td>Female</td>\n      <td>39</td>\n      <td>1</td>\n      <td>0.00</td>\n      <td>2</td>\n      <td>0</td>\n      <td>0</td>\n      <td>93826.63</td>\n      <td>0</td>\n    </tr>\n    <tr>\n      <th>4</th>\n      <td>5</td>\n      <td>15737888</td>\n      <td>Mitchell</td>\n      <td>850</td>\n      <td>Spain</td>\n      <td>Female</td>\n      <td>43</td>\n      <td>2</td>\n      <td>125510.82</td>\n      <td>1</td>\n      <td>1</td>\n      <td>1</td>\n      <td>79084.10</td>\n      <td>0</td>\n    </tr>\n  </tbody>\n</table>\n</div>"
     },
     "execution_count": 9,
     "metadata": {},
     "output_type": "execute_result"
    }
   ],
   "source": [
    "df.head()"
   ],
   "metadata": {
    "collapsed": false,
    "ExecuteTime": {
     "end_time": "2023-09-16T11:01:01.780676800Z",
     "start_time": "2023-09-16T11:01:01.749805900Z"
    }
   },
   "id": "75254e647e5a4292"
  },
  {
   "cell_type": "code",
   "execution_count": 10,
   "outputs": [],
   "source": [
    "df.drop(columns = ['RowNumber' , 'CustomerId' , 'Surname'] , inplace= True)"
   ],
   "metadata": {
    "collapsed": false,
    "ExecuteTime": {
     "end_time": "2023-09-16T11:01:26.600795100Z",
     "start_time": "2023-09-16T11:01:26.591729200Z"
    }
   },
   "id": "44db252636292c21"
  },
  {
   "cell_type": "code",
   "execution_count": 12,
   "outputs": [],
   "source": [
    "df = pd.get_dummies(df , columns = ['Geography' , 'Gender'] , drop_first = True)"
   ],
   "metadata": {
    "collapsed": false,
    "ExecuteTime": {
     "end_time": "2023-09-16T11:02:05.559736700Z",
     "start_time": "2023-09-16T11:02:05.528148100Z"
    }
   },
   "id": "bc0c612ec8b77786"
  },
  {
   "cell_type": "code",
   "execution_count": 14,
   "outputs": [
    {
     "data": {
      "text/plain": "   CreditScore  Age  Tenure    Balance  NumOfProducts  HasCrCard  \\\n0          619   42       2       0.00              1          1   \n1          608   41       1   83807.86              1          0   \n2          502   42       8  159660.80              3          1   \n3          699   39       1       0.00              2          0   \n4          850   43       2  125510.82              1          1   \n\n   IsActiveMember  EstimatedSalary  Exited  Geography_Germany  \\\n0               1        101348.88       1              False   \n1               1        112542.58       0              False   \n2               0        113931.57       1              False   \n3               0         93826.63       0              False   \n4               1         79084.10       0              False   \n\n   Geography_Spain  Gender_Male  \n0            False        False  \n1             True        False  \n2            False        False  \n3            False        False  \n4             True        False  ",
      "text/html": "<div>\n<style scoped>\n    .dataframe tbody tr th:only-of-type {\n        vertical-align: middle;\n    }\n\n    .dataframe tbody tr th {\n        vertical-align: top;\n    }\n\n    .dataframe thead th {\n        text-align: right;\n    }\n</style>\n<table border=\"1\" class=\"dataframe\">\n  <thead>\n    <tr style=\"text-align: right;\">\n      <th></th>\n      <th>CreditScore</th>\n      <th>Age</th>\n      <th>Tenure</th>\n      <th>Balance</th>\n      <th>NumOfProducts</th>\n      <th>HasCrCard</th>\n      <th>IsActiveMember</th>\n      <th>EstimatedSalary</th>\n      <th>Exited</th>\n      <th>Geography_Germany</th>\n      <th>Geography_Spain</th>\n      <th>Gender_Male</th>\n    </tr>\n  </thead>\n  <tbody>\n    <tr>\n      <th>0</th>\n      <td>619</td>\n      <td>42</td>\n      <td>2</td>\n      <td>0.00</td>\n      <td>1</td>\n      <td>1</td>\n      <td>1</td>\n      <td>101348.88</td>\n      <td>1</td>\n      <td>False</td>\n      <td>False</td>\n      <td>False</td>\n    </tr>\n    <tr>\n      <th>1</th>\n      <td>608</td>\n      <td>41</td>\n      <td>1</td>\n      <td>83807.86</td>\n      <td>1</td>\n      <td>0</td>\n      <td>1</td>\n      <td>112542.58</td>\n      <td>0</td>\n      <td>False</td>\n      <td>True</td>\n      <td>False</td>\n    </tr>\n    <tr>\n      <th>2</th>\n      <td>502</td>\n      <td>42</td>\n      <td>8</td>\n      <td>159660.80</td>\n      <td>3</td>\n      <td>1</td>\n      <td>0</td>\n      <td>113931.57</td>\n      <td>1</td>\n      <td>False</td>\n      <td>False</td>\n      <td>False</td>\n    </tr>\n    <tr>\n      <th>3</th>\n      <td>699</td>\n      <td>39</td>\n      <td>1</td>\n      <td>0.00</td>\n      <td>2</td>\n      <td>0</td>\n      <td>0</td>\n      <td>93826.63</td>\n      <td>0</td>\n      <td>False</td>\n      <td>False</td>\n      <td>False</td>\n    </tr>\n    <tr>\n      <th>4</th>\n      <td>850</td>\n      <td>43</td>\n      <td>2</td>\n      <td>125510.82</td>\n      <td>1</td>\n      <td>1</td>\n      <td>1</td>\n      <td>79084.10</td>\n      <td>0</td>\n      <td>False</td>\n      <td>True</td>\n      <td>False</td>\n    </tr>\n  </tbody>\n</table>\n</div>"
     },
     "execution_count": 14,
     "metadata": {},
     "output_type": "execute_result"
    }
   ],
   "source": [
    "df.head()"
   ],
   "metadata": {
    "collapsed": false,
    "ExecuteTime": {
     "end_time": "2023-09-16T11:02:12.472166Z",
     "start_time": "2023-09-16T11:02:12.465142400Z"
    }
   },
   "id": "25e951ed12a95593"
  },
  {
   "cell_type": "code",
   "execution_count": 15,
   "outputs": [
    {
     "data": {
      "text/plain": "(10000, 12)"
     },
     "execution_count": 15,
     "metadata": {},
     "output_type": "execute_result"
    }
   ],
   "source": [
    "df.shape"
   ],
   "metadata": {
    "collapsed": false,
    "ExecuteTime": {
     "end_time": "2023-09-16T11:02:27.628739500Z",
     "start_time": "2023-09-16T11:02:27.623340Z"
    }
   },
   "id": "24a63beafd977c61"
  },
  {
   "cell_type": "code",
   "execution_count": 18,
   "outputs": [],
   "source": [
    "x = df.drop(columns = ['Exited'])\n",
    "y = df['Exited']"
   ],
   "metadata": {
    "collapsed": false,
    "ExecuteTime": {
     "end_time": "2023-09-16T11:03:29.904296800Z",
     "start_time": "2023-09-16T11:03:29.886704100Z"
    }
   },
   "id": "be32845d877f03d6"
  },
  {
   "cell_type": "code",
   "execution_count": 19,
   "outputs": [
    {
     "data": {
      "text/plain": "((10000, 11), (10000,))"
     },
     "execution_count": 19,
     "metadata": {},
     "output_type": "execute_result"
    }
   ],
   "source": [
    "x.shape , y.shape"
   ],
   "metadata": {
    "collapsed": false,
    "ExecuteTime": {
     "end_time": "2023-09-16T11:03:35.216997800Z",
     "start_time": "2023-09-16T11:03:35.212336Z"
    }
   },
   "id": "42e5ee2c3055ee66"
  },
  {
   "cell_type": "code",
   "execution_count": 21,
   "outputs": [
    {
     "data": {
      "text/plain": "((8000, 11), (2000, 11))"
     },
     "execution_count": 21,
     "metadata": {},
     "output_type": "execute_result"
    }
   ],
   "source": [
    "from sklearn.model_selection import train_test_split\n",
    "\n",
    "x_train , x_test , y_train , y_test = train_test_split(x , y , test_size = 0.2 , random_state = 10)\n",
    "\n",
    "x_train.shape,x_test.shape"
   ],
   "metadata": {
    "collapsed": false,
    "ExecuteTime": {
     "end_time": "2023-09-16T11:04:42.753448700Z",
     "start_time": "2023-09-16T11:04:42.737518900Z"
    }
   },
   "id": "dd472e7a8dcadd76"
  },
  {
   "cell_type": "code",
   "execution_count": 22,
   "outputs": [],
   "source": [
    "from sklearn.preprocessing import StandardScaler\n",
    "\n",
    "scalar = StandardScaler()\n",
    "x_train_scaled = scalar.fit_transform(x_train)\n",
    "x_test_scaled = scalar.transform(x_test)"
   ],
   "metadata": {
    "collapsed": false,
    "ExecuteTime": {
     "end_time": "2023-09-16T11:05:57.628971400Z",
     "start_time": "2023-09-16T11:05:57.613323400Z"
    }
   },
   "id": "75214195973cfa0a"
  },
  {
   "cell_type": "code",
   "execution_count": 24,
   "outputs": [
    {
     "data": {
      "text/plain": "array([[ 1.78974378,  0.94394225,  1.04271518, ...,  1.73436329,\n        -0.57388614,  0.91255717],\n       [ 0.26040483,  2.35932486, -0.35053238, ..., -0.57658047,\n         1.74250594, -1.09582175],\n       [-0.22526362, -0.47144036,  0.3460914 , ..., -0.57658047,\n         1.74250594,  0.91255717],\n       ...,\n       [-1.97160337,  0.09471269,  0.3460914 , ...,  1.73436329,\n        -0.57388614, -1.09582175],\n       [ 0.60140608, -0.47144036, -1.04715616, ..., -0.57658047,\n        -0.57388614, -1.09582175],\n       [ 0.21907135,  0.09471269,  1.73933896, ...,  1.73436329,\n        -0.57388614,  0.91255717]])"
     },
     "execution_count": 24,
     "metadata": {},
     "output_type": "execute_result"
    }
   ],
   "source": [
    "x_train_scaled"
   ],
   "metadata": {
    "collapsed": false,
    "ExecuteTime": {
     "end_time": "2023-09-16T11:06:06.994755500Z",
     "start_time": "2023-09-16T11:06:06.978015400Z"
    }
   },
   "id": "b2ca19b89d04c113"
  },
  {
   "cell_type": "code",
   "execution_count": 28,
   "outputs": [],
   "source": [
    "from tensorflow import keras\n",
    "from keras.layers import Dense\n",
    "from keras import Sequential"
   ],
   "metadata": {
    "collapsed": false,
    "ExecuteTime": {
     "end_time": "2023-09-16T11:06:53.859467800Z",
     "start_time": "2023-09-16T11:06:53.856926900Z"
    }
   },
   "id": "58c86a0fafde2907"
  },
  {
   "cell_type": "code",
   "execution_count": 39,
   "outputs": [],
   "source": [
    "model = Sequential()\n",
    "\n",
    "model.add(Dense(10 , activation = 'sigmoid' , input_dim =11))\n",
    "model.add(Dense(20 , activation = 'relu'))\n",
    "model.add(Dense(10 , activation = 'relu'))\n",
    "model.add(Dense(1 , activation = 'sigmoid'))"
   ],
   "metadata": {
    "collapsed": false,
    "ExecuteTime": {
     "end_time": "2023-09-16T11:11:16.189632300Z",
     "start_time": "2023-09-16T11:11:16.151829400Z"
    }
   },
   "id": "ca9730357604a203"
  },
  {
   "cell_type": "code",
   "execution_count": 40,
   "outputs": [],
   "source": [
    "model.compile(loss = 'binary_crossentropy' , optimizer = 'Adam' , metrics = ['accuracy'])"
   ],
   "metadata": {
    "collapsed": false,
    "ExecuteTime": {
     "end_time": "2023-09-16T11:11:16.198990500Z",
     "start_time": "2023-09-16T11:11:16.189632300Z"
    }
   },
   "id": "4117c402d06e7f6d"
  },
  {
   "cell_type": "code",
   "execution_count": 51,
   "outputs": [
    {
     "name": "stdout",
     "output_type": "stream",
     "text": [
      "Model: \"sequential_2\"\n",
      "_________________________________________________________________\n",
      " Layer (type)                Output Shape              Param #   \n",
      "=================================================================\n",
      " dense_8 (Dense)             (None, 10)                120       \n",
      "                                                                 \n",
      " dense_9 (Dense)             (None, 20)                220       \n",
      "                                                                 \n",
      " dense_10 (Dense)            (None, 10)                210       \n",
      "                                                                 \n",
      " dense_11 (Dense)            (None, 1)                 11        \n",
      "                                                                 \n",
      "=================================================================\n",
      "Total params: 561 (2.19 KB)\n",
      "Trainable params: 561 (2.19 KB)\n",
      "Non-trainable params: 0 (0.00 Byte)\n",
      "_________________________________________________________________\n"
     ]
    }
   ],
   "source": [
    "model.summary()"
   ],
   "metadata": {
    "collapsed": false,
    "ExecuteTime": {
     "end_time": "2023-09-16T11:31:41.644437100Z",
     "start_time": "2023-09-16T11:31:41.596619100Z"
    }
   },
   "id": "d47630f126a06749"
  },
  {
   "cell_type": "code",
   "execution_count": 41,
   "outputs": [
    {
     "name": "stdout",
     "output_type": "stream",
     "text": [
      "Epoch 1/40\n",
      "200/200 [==============================] - 1s 2ms/step - loss: 0.5269 - accuracy: 0.7517 - val_loss: 0.4455 - val_accuracy: 0.8112\n",
      "Epoch 2/40\n",
      "200/200 [==============================] - 0s 1ms/step - loss: 0.4436 - accuracy: 0.7992 - val_loss: 0.4111 - val_accuracy: 0.8225\n",
      "Epoch 3/40\n",
      "200/200 [==============================] - 0s 1ms/step - loss: 0.4159 - accuracy: 0.8136 - val_loss: 0.3954 - val_accuracy: 0.8213\n",
      "Epoch 4/40\n",
      "200/200 [==============================] - 0s 1ms/step - loss: 0.3975 - accuracy: 0.8253 - val_loss: 0.3814 - val_accuracy: 0.8288\n",
      "Epoch 5/40\n",
      "200/200 [==============================] - 0s 1ms/step - loss: 0.3802 - accuracy: 0.8378 - val_loss: 0.3686 - val_accuracy: 0.8431\n",
      "Epoch 6/40\n",
      "200/200 [==============================] - 0s 1ms/step - loss: 0.3652 - accuracy: 0.8466 - val_loss: 0.3548 - val_accuracy: 0.8500\n",
      "Epoch 7/40\n",
      "200/200 [==============================] - 0s 1ms/step - loss: 0.3541 - accuracy: 0.8514 - val_loss: 0.3491 - val_accuracy: 0.8531\n",
      "Epoch 8/40\n",
      "200/200 [==============================] - 0s 1ms/step - loss: 0.3442 - accuracy: 0.8594 - val_loss: 0.3478 - val_accuracy: 0.8525\n",
      "Epoch 9/40\n",
      "200/200 [==============================] - 0s 1ms/step - loss: 0.3406 - accuracy: 0.8578 - val_loss: 0.3410 - val_accuracy: 0.8575\n",
      "Epoch 10/40\n",
      "200/200 [==============================] - 0s 1ms/step - loss: 0.3369 - accuracy: 0.8622 - val_loss: 0.3413 - val_accuracy: 0.8606\n",
      "Epoch 11/40\n",
      "200/200 [==============================] - 0s 1ms/step - loss: 0.3352 - accuracy: 0.8627 - val_loss: 0.3450 - val_accuracy: 0.8575\n",
      "Epoch 12/40\n",
      "200/200 [==============================] - 0s 1ms/step - loss: 0.3341 - accuracy: 0.8611 - val_loss: 0.3396 - val_accuracy: 0.8650\n",
      "Epoch 13/40\n",
      "200/200 [==============================] - 0s 1ms/step - loss: 0.3329 - accuracy: 0.8605 - val_loss: 0.3386 - val_accuracy: 0.8625\n",
      "Epoch 14/40\n",
      "200/200 [==============================] - 0s 1ms/step - loss: 0.3321 - accuracy: 0.8623 - val_loss: 0.3371 - val_accuracy: 0.8637\n",
      "Epoch 15/40\n",
      "200/200 [==============================] - 0s 1ms/step - loss: 0.3308 - accuracy: 0.8637 - val_loss: 0.3436 - val_accuracy: 0.8537\n",
      "Epoch 16/40\n",
      "200/200 [==============================] - 0s 1ms/step - loss: 0.3311 - accuracy: 0.8637 - val_loss: 0.3367 - val_accuracy: 0.8644\n",
      "Epoch 17/40\n",
      "200/200 [==============================] - 0s 1ms/step - loss: 0.3294 - accuracy: 0.8656 - val_loss: 0.3374 - val_accuracy: 0.8612\n",
      "Epoch 18/40\n",
      "200/200 [==============================] - 0s 1ms/step - loss: 0.3294 - accuracy: 0.8641 - val_loss: 0.3377 - val_accuracy: 0.8637\n",
      "Epoch 19/40\n",
      "200/200 [==============================] - 0s 1ms/step - loss: 0.3282 - accuracy: 0.8656 - val_loss: 0.3356 - val_accuracy: 0.8669\n",
      "Epoch 20/40\n",
      "200/200 [==============================] - 0s 1ms/step - loss: 0.3295 - accuracy: 0.8625 - val_loss: 0.3478 - val_accuracy: 0.8544\n",
      "Epoch 21/40\n",
      "200/200 [==============================] - 0s 1ms/step - loss: 0.3283 - accuracy: 0.8644 - val_loss: 0.3352 - val_accuracy: 0.8650\n",
      "Epoch 22/40\n",
      "200/200 [==============================] - 0s 1ms/step - loss: 0.3277 - accuracy: 0.8652 - val_loss: 0.3356 - val_accuracy: 0.8656\n",
      "Epoch 23/40\n",
      "200/200 [==============================] - 0s 1ms/step - loss: 0.3268 - accuracy: 0.8655 - val_loss: 0.3345 - val_accuracy: 0.8662\n",
      "Epoch 24/40\n",
      "200/200 [==============================] - 0s 1ms/step - loss: 0.3268 - accuracy: 0.8634 - val_loss: 0.3351 - val_accuracy: 0.8644\n",
      "Epoch 25/40\n",
      "200/200 [==============================] - 0s 1ms/step - loss: 0.3263 - accuracy: 0.8637 - val_loss: 0.3343 - val_accuracy: 0.8631\n",
      "Epoch 26/40\n",
      "200/200 [==============================] - 0s 1ms/step - loss: 0.3265 - accuracy: 0.8642 - val_loss: 0.3374 - val_accuracy: 0.8637\n",
      "Epoch 27/40\n",
      "200/200 [==============================] - 0s 1ms/step - loss: 0.3253 - accuracy: 0.8634 - val_loss: 0.3364 - val_accuracy: 0.8637\n",
      "Epoch 28/40\n",
      "200/200 [==============================] - 0s 1ms/step - loss: 0.3260 - accuracy: 0.8623 - val_loss: 0.3345 - val_accuracy: 0.8625\n",
      "Epoch 29/40\n",
      "200/200 [==============================] - 0s 1ms/step - loss: 0.3256 - accuracy: 0.8653 - val_loss: 0.3355 - val_accuracy: 0.8625\n",
      "Epoch 30/40\n",
      "200/200 [==============================] - 0s 1ms/step - loss: 0.3250 - accuracy: 0.8647 - val_loss: 0.3339 - val_accuracy: 0.8656\n",
      "Epoch 31/40\n",
      "200/200 [==============================] - 0s 1ms/step - loss: 0.3246 - accuracy: 0.8619 - val_loss: 0.3361 - val_accuracy: 0.8656\n",
      "Epoch 32/40\n",
      "200/200 [==============================] - 0s 1ms/step - loss: 0.3242 - accuracy: 0.8656 - val_loss: 0.3344 - val_accuracy: 0.8631\n",
      "Epoch 33/40\n",
      "200/200 [==============================] - 0s 1ms/step - loss: 0.3256 - accuracy: 0.8645 - val_loss: 0.3341 - val_accuracy: 0.8625\n",
      "Epoch 34/40\n",
      "200/200 [==============================] - 0s 1ms/step - loss: 0.3245 - accuracy: 0.8641 - val_loss: 0.3358 - val_accuracy: 0.8631\n",
      "Epoch 35/40\n",
      "200/200 [==============================] - 0s 1ms/step - loss: 0.3248 - accuracy: 0.8636 - val_loss: 0.3331 - val_accuracy: 0.8644\n",
      "Epoch 36/40\n",
      "200/200 [==============================] - 0s 1ms/step - loss: 0.3240 - accuracy: 0.8662 - val_loss: 0.3332 - val_accuracy: 0.8600\n",
      "Epoch 37/40\n",
      "200/200 [==============================] - 0s 1ms/step - loss: 0.3230 - accuracy: 0.8656 - val_loss: 0.3363 - val_accuracy: 0.8625\n",
      "Epoch 38/40\n",
      "200/200 [==============================] - 0s 1ms/step - loss: 0.3236 - accuracy: 0.8637 - val_loss: 0.3336 - val_accuracy: 0.8656\n",
      "Epoch 39/40\n",
      "200/200 [==============================] - 0s 1ms/step - loss: 0.3233 - accuracy: 0.8656 - val_loss: 0.3372 - val_accuracy: 0.8650\n",
      "Epoch 40/40\n",
      "200/200 [==============================] - 0s 1ms/step - loss: 0.3224 - accuracy: 0.8672 - val_loss: 0.3351 - val_accuracy: 0.8644\n"
     ]
    }
   ],
   "source": [
    "history = model.fit(x_train_scaled , y_train , epochs = 40 , validation_split = 0.2)"
   ],
   "metadata": {
    "collapsed": false,
    "ExecuteTime": {
     "end_time": "2023-09-16T11:11:27.307260800Z",
     "start_time": "2023-09-16T11:11:16.198990500Z"
    }
   },
   "id": "58b488656120e93c"
  },
  {
   "cell_type": "code",
   "execution_count": 48,
   "outputs": [
    {
     "data": {
      "text/plain": "{'loss': [0.5269344449043274,\n  0.4436309337615967,\n  0.41593343019485474,\n  0.39752206206321716,\n  0.3802255690097809,\n  0.36518895626068115,\n  0.3540935218334198,\n  0.3441821038722992,\n  0.34059062600135803,\n  0.3368908762931824,\n  0.33515360951423645,\n  0.3340536057949066,\n  0.3329119086265564,\n  0.332123339176178,\n  0.33081963658332825,\n  0.33114829659461975,\n  0.3294447660446167,\n  0.3293895423412323,\n  0.32820919156074524,\n  0.329497754573822,\n  0.3283466100692749,\n  0.32774898409843445,\n  0.32681646943092346,\n  0.32684624195098877,\n  0.32633450627326965,\n  0.3264603912830353,\n  0.3253195285797119,\n  0.32600438594818115,\n  0.3255738317966461,\n  0.324992835521698,\n  0.32458555698394775,\n  0.32423534989356995,\n  0.32560181617736816,\n  0.324491411447525,\n  0.3247619867324829,\n  0.3239893615245819,\n  0.3230247497558594,\n  0.3236039876937866,\n  0.3232548236846924,\n  0.32237815856933594],\n 'accuracy': [0.7517187595367432,\n  0.7992187738418579,\n  0.8135937452316284,\n  0.8253124952316284,\n  0.8378124833106995,\n  0.8465625047683716,\n  0.8514062762260437,\n  0.859375,\n  0.8578125238418579,\n  0.8621875047683716,\n  0.8626562356948853,\n  0.8610937595367432,\n  0.8604687452316284,\n  0.8623437285423279,\n  0.8637499809265137,\n  0.8637499809265137,\n  0.8656250238418579,\n  0.864062488079071,\n  0.8656250238418579,\n  0.862500011920929,\n  0.8643749952316284,\n  0.8651562333106995,\n  0.8654687404632568,\n  0.8634374737739563,\n  0.8637499809265137,\n  0.8642187714576721,\n  0.8634374737739563,\n  0.8623437285423279,\n  0.8653125166893005,\n  0.8646875023841858,\n  0.8618749976158142,\n  0.8656250238418579,\n  0.8645312786102295,\n  0.864062488079071,\n  0.8635937571525574,\n  0.8662499785423279,\n  0.8656250238418579,\n  0.8637499809265137,\n  0.8656250238418579,\n  0.8671875],\n 'val_loss': [0.4455184042453766,\n  0.4110757112503052,\n  0.3953959345817566,\n  0.38139835000038147,\n  0.3686131238937378,\n  0.35478588938713074,\n  0.3490663170814514,\n  0.3478293716907501,\n  0.3409680426120758,\n  0.3413175940513611,\n  0.3450486361980438,\n  0.3395818769931793,\n  0.33860069513320923,\n  0.33709898591041565,\n  0.343598872423172,\n  0.33673951029777527,\n  0.3374061584472656,\n  0.3376511335372925,\n  0.335562527179718,\n  0.3478177785873413,\n  0.33518752455711365,\n  0.3356021046638489,\n  0.3344774544239044,\n  0.3350999057292938,\n  0.33427125215530396,\n  0.33737778663635254,\n  0.33638104796409607,\n  0.3345409631729126,\n  0.33547478914260864,\n  0.33394744992256165,\n  0.3361324667930603,\n  0.3343692421913147,\n  0.3341493308544159,\n  0.335783988237381,\n  0.3330569565296173,\n  0.33323773741722107,\n  0.33628547191619873,\n  0.3335553705692291,\n  0.3372402489185333,\n  0.33509013056755066],\n 'val_accuracy': [0.8112499713897705,\n  0.8224999904632568,\n  0.8212500214576721,\n  0.8287500143051147,\n  0.8431249856948853,\n  0.8500000238418579,\n  0.8531249761581421,\n  0.8525000214576721,\n  0.8575000166893005,\n  0.8606250286102295,\n  0.8575000166893005,\n  0.8650000095367432,\n  0.862500011920929,\n  0.8637499809265137,\n  0.8537499904632568,\n  0.8643749952316284,\n  0.8612499833106995,\n  0.8637499809265137,\n  0.8668749928474426,\n  0.8543750047683716,\n  0.8650000095367432,\n  0.8656250238418579,\n  0.8662499785423279,\n  0.8643749952316284,\n  0.8631250262260437,\n  0.8637499809265137,\n  0.8637499809265137,\n  0.862500011920929,\n  0.862500011920929,\n  0.8656250238418579,\n  0.8656250238418579,\n  0.8631250262260437,\n  0.862500011920929,\n  0.8631250262260437,\n  0.8643749952316284,\n  0.8600000143051147,\n  0.862500011920929,\n  0.8656250238418579,\n  0.8650000095367432,\n  0.8643749952316284]}"
     },
     "execution_count": 48,
     "metadata": {},
     "output_type": "execute_result"
    }
   ],
   "source": [
    "history.history"
   ],
   "metadata": {
    "collapsed": false,
    "ExecuteTime": {
     "end_time": "2023-09-16T11:13:30.440867800Z",
     "start_time": "2023-09-16T11:13:30.425033900Z"
    }
   },
   "id": "5573bad58eedcf87"
  },
  {
   "cell_type": "code",
   "execution_count": 42,
   "outputs": [
    {
     "name": "stdout",
     "output_type": "stream",
     "text": [
      "63/63 [==============================] - 0s 756us/step\n"
     ]
    }
   ],
   "source": [
    "y_pred = model.predict(x_test_scaled)\n",
    "y_pred = np.where(y_pred>0.5 , 1 , 0)"
   ],
   "metadata": {
    "collapsed": false,
    "ExecuteTime": {
     "end_time": "2023-09-16T11:11:27.470742100Z",
     "start_time": "2023-09-16T11:11:27.307260800Z"
    }
   },
   "id": "e3164186df5adc7d"
  },
  {
   "cell_type": "code",
   "execution_count": 43,
   "outputs": [],
   "source": [
    "from sklearn.metrics import accuracy_score"
   ],
   "metadata": {
    "collapsed": false,
    "ExecuteTime": {
     "end_time": "2023-09-16T11:11:27.475219600Z",
     "start_time": "2023-09-16T11:11:27.470742100Z"
    }
   },
   "id": "6fab5a3df61fda8a"
  },
  {
   "cell_type": "code",
   "execution_count": 44,
   "outputs": [
    {
     "data": {
      "text/plain": "0.8525"
     },
     "execution_count": 44,
     "metadata": {},
     "output_type": "execute_result"
    }
   ],
   "source": [
    "accuracy_score(y_test , y_pred)"
   ],
   "metadata": {
    "collapsed": false,
    "ExecuteTime": {
     "end_time": "2023-09-16T11:11:27.500980900Z",
     "start_time": "2023-09-16T11:11:27.475219600Z"
    }
   },
   "id": "45adbe3b0719632c"
  },
  {
   "cell_type": "code",
   "execution_count": 46,
   "outputs": [
    {
     "data": {
      "text/plain": "<matplotlib.legend.Legend at 0x1dea7315b90>"
     },
     "execution_count": 46,
     "metadata": {},
     "output_type": "execute_result"
    },
    {
     "data": {
      "text/plain": "<Figure size 640x480 with 1 Axes>",
      "image/png": "[encoded data removed]"
     },
     "metadata": {},
     "output_type": "display_data"
    }
   ],
   "source": [
    "import matplotlib.pyplot as plt\n",
    "\n",
    "plt.plot(history.history['loss'] , label = 'loss')\n",
    "plt.plot(history.history['val_loss'] , label = 'validation loss')\n",
    "plt.legend()"
   ],
   "metadata": {
    "collapsed": false,
    "ExecuteTime": {
     "end_time": "2023-09-16T11:12:27.972305300Z",
     "start_time": "2023-09-16T11:12:27.814357600Z"
    }
   },
   "id": "86f69b8ac4a9d77a"
  },
  {
   "cell_type": "code",
   "execution_count": 47,
   "outputs": [
    {
     "data": {
      "text/plain": "[<matplotlib.lines.Line2D at 0x1dea95a4090>]"
     },
     "execution_count": 47,
     "metadata": {},
     "output_type": "execute_result"
    },
    {
     "data": {
      "text/plain": "<Figure size 640x480 with 1 Axes>",
      "image/png": "[encoded data removed]"
     },
     "metadata": {},
     "output_type": "display_data"
    }
   ],
   "source": [
    "plt.plot(history.history['accuracy'] , label = 'accuracy')\n",
    "plt.plot(history.history['val_accuracy'] , label = 'validation accuracy')"
   ],
   "metadata": {
    "collapsed": false,
    "ExecuteTime": {
     "end_time": "2023-09-16T11:13:15.215954900Z",
     "start_time": "2023-09-16T11:13:15.076684800Z"
    }
   },
   "id": "4a0416f273a211c4"
  },
  {
   "cell_type": "code",
   "execution_count": null,
   "outputs": [],
   "source": [],
   "metadata": {
    "collapsed": false
   },
   "id": "c8ddcb1f7548a46a"
  }
 ],
 "metadata": {
  "kernelspec": {
   "display_name": "Python 3",
   "language": "python",
   "name": "python3"
  },
  "language_info": {
   "codemirror_mode": {
    "name": "ipython",
    "version": 2
   },
   "file_extension": ".py",
   "mimetype": "text/x-python",
   "name": "python",
   "nbconvert_exporter": "python",
   "pygments_lexer": "ipython2",
   "version": "2.7.6"
  }
 },
 "nbformat": 4,
 "nbformat_minor": 5
}
