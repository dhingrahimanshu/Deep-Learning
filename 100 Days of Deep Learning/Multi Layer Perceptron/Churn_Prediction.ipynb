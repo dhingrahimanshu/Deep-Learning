{
 "cells": [
  {
   "cell_type": "code",
   "execution_count": 1,
   "id": "initial_id",
   "metadata": {
    "collapsed": true,
    "ExecuteTime": {
     "end_time": "2023-09-15T11:18:09.303207700Z",
     "start_time": "2023-09-15T11:18:09.299202600Z"
    }
   },
   "outputs": [],
   "source": [
    "import numpy as np\n",
    "import pandas as pd"
   ]
  },
  {
   "cell_type": "code",
   "execution_count": 2,
   "outputs": [],
   "source": [
    "df = pd.read_csv('churn.csv')"
   ],
   "metadata": {
    "collapsed": false,
    "ExecuteTime": {
     "end_time": "2023-09-15T11:18:12.424945900Z",
     "start_time": "2023-09-15T11:18:12.380945400Z"
    }
   },
   "id": "56b3e4681561488a"
  },
  {
   "cell_type": "code",
   "execution_count": 3,
   "outputs": [
    {
     "data": {
      "text/plain": "   RowNumber  CustomerId   Surname  CreditScore Geography  Gender  Age  \\\n0          1    15634602  Hargrave          619    France  Female   42   \n1          2    15647311      Hill          608     Spain  Female   41   \n2          3    15619304      Onio          502    France  Female   42   \n3          4    15701354      Boni          699    France  Female   39   \n4          5    15737888  Mitchell          850     Spain  Female   43   \n\n   Tenure    Balance  NumOfProducts  HasCrCard  IsActiveMember  \\\n0       2       0.00              1          1               1   \n1       1   83807.86              1          0               1   \n2       8  159660.80              3          1               0   \n3       1       0.00              2          0               0   \n4       2  125510.82              1          1               1   \n\n   EstimatedSalary  Exited  \n0        101348.88       1  \n1        112542.58       0  \n2        113931.57       1  \n3         93826.63       0  \n4         79084.10       0  ",
      "text/html": "<div>\n<style scoped>\n    .dataframe tbody tr th:only-of-type {\n        vertical-align: middle;\n    }\n\n    .dataframe tbody tr th {\n        vertical-align: top;\n    }\n\n    .dataframe thead th {\n        text-align: right;\n    }\n</style>\n<table border=\"1\" class=\"dataframe\">\n  <thead>\n    <tr style=\"text-align: right;\">\n      <th></th>\n      <th>RowNumber</th>\n      <th>CustomerId</th>\n      <th>Surname</th>\n      <th>CreditScore</th>\n      <th>Geography</th>\n      <th>Gender</th>\n      <th>Age</th>\n      <th>Tenure</th>\n      <th>Balance</th>\n      <th>NumOfProducts</th>\n      <th>HasCrCard</th>\n      <th>IsActiveMember</th>\n      <th>EstimatedSalary</th>\n      <th>Exited</th>\n    </tr>\n  </thead>\n  <tbody>\n    <tr>\n      <th>0</th>\n      <td>1</td>\n      <td>15634602</td>\n      <td>Hargrave</td>\n      <td>619</td>\n      <td>France</td>\n      <td>Female</td>\n      <td>42</td>\n      <td>2</td>\n      <td>0.00</td>\n      <td>1</td>\n      <td>1</td>\n      <td>1</td>\n      <td>101348.88</td>\n      <td>1</td>\n    </tr>\n    <tr>\n      <th>1</th>\n      <td>2</td>\n      <td>15647311</td>\n      <td>Hill</td>\n      <td>608</td>\n      <td>Spain</td>\n      <td>Female</td>\n      <td>41</td>\n      <td>1</td>\n      <td>83807.86</td>\n      <td>1</td>\n      <td>0</td>\n      <td>1</td>\n      <td>112542.58</td>\n      <td>0</td>\n    </tr>\n    <tr>\n      <th>2</th>\n      <td>3</td>\n      <td>15619304</td>\n      <td>Onio</td>\n      <td>502</td>\n      <td>France</td>\n      <td>Female</td>\n      <td>42</td>\n      <td>8</td>\n      <td>159660.80</td>\n      <td>3</td>\n      <td>1</td>\n      <td>0</td>\n      <td>113931.57</td>\n      <td>1</td>\n    </tr>\n    <tr>\n      <th>3</th>\n      <td>4</td>\n      <td>15701354</td>\n      <td>Boni</td>\n      <td>699</td>\n      <td>France</td>\n      <td>Female</td>\n      <td>39</td>\n      <td>1</td>\n      <td>0.00</td>\n      <td>2</td>\n      <td>0</td>\n      <td>0</td>\n      <td>93826.63</td>\n      <td>0</td>\n    </tr>\n    <tr>\n      <th>4</th>\n      <td>5</td>\n      <td>15737888</td>\n      <td>Mitchell</td>\n      <td>850</td>\n      <td>Spain</td>\n      <td>Female</td>\n      <td>43</td>\n      <td>2</td>\n      <td>125510.82</td>\n      <td>1</td>\n      <td>1</td>\n      <td>1</td>\n      <td>79084.10</td>\n      <td>0</td>\n    </tr>\n  </tbody>\n</table>\n</div>"
     },
     "execution_count": 3,
     "metadata": {},
     "output_type": "execute_result"
    }
   ],
   "source": [
    "df.head()"
   ],
   "metadata": {
    "collapsed": false,
    "ExecuteTime": {
     "end_time": "2023-09-15T11:18:12.671696500Z",
     "start_time": "2023-09-15T11:18:12.635484500Z"
    }
   },
   "id": "d06e4d284084e27c"
  },
  {
   "cell_type": "code",
   "execution_count": 4,
   "outputs": [
    {
     "data": {
      "text/plain": "0"
     },
     "execution_count": 4,
     "metadata": {},
     "output_type": "execute_result"
    }
   ],
   "source": [
    "df.duplicated().sum()"
   ],
   "metadata": {
    "collapsed": false,
    "ExecuteTime": {
     "end_time": "2023-09-15T11:18:12.956522300Z",
     "start_time": "2023-09-15T11:18:12.835030500Z"
    }
   },
   "id": "357a6d9693ce1ef2"
  },
  {
   "cell_type": "code",
   "execution_count": 5,
   "outputs": [
    {
     "name": "stdout",
     "output_type": "stream",
     "text": [
      "<class 'pandas.core.frame.DataFrame'>\n",
      "RangeIndex: 10000 entries, 0 to 9999\n",
      "Data columns (total 14 columns):\n",
      " #   Column           Non-Null Count  Dtype  \n",
      "---  ------           --------------  -----  \n",
      " 0   RowNumber        10000 non-null  int64  \n",
      " 1   CustomerId       10000 non-null  int64  \n",
      " 2   Surname          10000 non-null  object \n",
      " 3   CreditScore      10000 non-null  int64  \n",
      " 4   Geography        10000 non-null  object \n",
      " 5   Gender           10000 non-null  object \n",
      " 6   Age              10000 non-null  int64  \n",
      " 7   Tenure           10000 non-null  int64  \n",
      " 8   Balance          10000 non-null  float64\n",
      " 9   NumOfProducts    10000 non-null  int64  \n",
      " 10  HasCrCard        10000 non-null  int64  \n",
      " 11  IsActiveMember   10000 non-null  int64  \n",
      " 12  EstimatedSalary  10000 non-null  float64\n",
      " 13  Exited           10000 non-null  int64  \n",
      "dtypes: float64(2), int64(9), object(3)\n",
      "memory usage: 1.1+ MB\n"
     ]
    }
   ],
   "source": [
    "df.info()"
   ],
   "metadata": {
    "collapsed": false,
    "ExecuteTime": {
     "end_time": "2023-09-15T11:18:13.130830500Z",
     "start_time": "2023-09-15T11:18:13.034437600Z"
    }
   },
   "id": "9093e5b1d708d247"
  },
  {
   "cell_type": "code",
   "execution_count": 6,
   "outputs": [
    {
     "data": {
      "text/plain": "Exited\n0    7963\n1    2037\nName: count, dtype: int64"
     },
     "execution_count": 6,
     "metadata": {},
     "output_type": "execute_result"
    }
   ],
   "source": [
    "df['Exited'].value_counts()"
   ],
   "metadata": {
    "collapsed": false,
    "ExecuteTime": {
     "end_time": "2023-09-15T11:18:13.241417600Z",
     "start_time": "2023-09-15T11:18:13.191488Z"
    }
   },
   "id": "702c4f91e220f80e"
  },
  {
   "cell_type": "code",
   "execution_count": 7,
   "outputs": [
    {
     "data": {
      "text/plain": "Geography\nFrance     5014\nGermany    2509\nSpain      2477\nName: count, dtype: int64"
     },
     "execution_count": 7,
     "metadata": {},
     "output_type": "execute_result"
    }
   ],
   "source": [
    "df['Geography'].value_counts()"
   ],
   "metadata": {
    "collapsed": false,
    "ExecuteTime": {
     "end_time": "2023-09-15T11:18:13.535074400Z",
     "start_time": "2023-09-15T11:18:13.377888800Z"
    }
   },
   "id": "240ba20dc002ede7"
  },
  {
   "cell_type": "code",
   "execution_count": 8,
   "outputs": [],
   "source": [
    "df.drop(columns = ['RowNumber' , 'CustomerId' , 'Surname'] , inplace = True)"
   ],
   "metadata": {
    "collapsed": false,
    "ExecuteTime": {
     "end_time": "2023-09-15T11:18:13.607752600Z",
     "start_time": "2023-09-15T11:18:13.516570200Z"
    }
   },
   "id": "ef3615350268a8c8"
  },
  {
   "cell_type": "code",
   "execution_count": 9,
   "outputs": [
    {
     "data": {
      "text/plain": "   CreditScore Geography  Gender  Age  Tenure    Balance  NumOfProducts  \\\n0          619    France  Female   42       2       0.00              1   \n1          608     Spain  Female   41       1   83807.86              1   \n2          502    France  Female   42       8  159660.80              3   \n3          699    France  Female   39       1       0.00              2   \n4          850     Spain  Female   43       2  125510.82              1   \n\n   HasCrCard  IsActiveMember  EstimatedSalary  Exited  \n0          1               1        101348.88       1  \n1          0               1        112542.58       0  \n2          1               0        113931.57       1  \n3          0               0         93826.63       0  \n4          1               1         79084.10       0  ",
      "text/html": "<div>\n<style scoped>\n    .dataframe tbody tr th:only-of-type {\n        vertical-align: middle;\n    }\n\n    .dataframe tbody tr th {\n        vertical-align: top;\n    }\n\n    .dataframe thead th {\n        text-align: right;\n    }\n</style>\n<table border=\"1\" class=\"dataframe\">\n  <thead>\n    <tr style=\"text-align: right;\">\n      <th></th>\n      <th>CreditScore</th>\n      <th>Geography</th>\n      <th>Gender</th>\n      <th>Age</th>\n      <th>Tenure</th>\n      <th>Balance</th>\n      <th>NumOfProducts</th>\n      <th>HasCrCard</th>\n      <th>IsActiveMember</th>\n      <th>EstimatedSalary</th>\n      <th>Exited</th>\n    </tr>\n  </thead>\n  <tbody>\n    <tr>\n      <th>0</th>\n      <td>619</td>\n      <td>France</td>\n      <td>Female</td>\n      <td>42</td>\n      <td>2</td>\n      <td>0.00</td>\n      <td>1</td>\n      <td>1</td>\n      <td>1</td>\n      <td>101348.88</td>\n      <td>1</td>\n    </tr>\n    <tr>\n      <th>1</th>\n      <td>608</td>\n      <td>Spain</td>\n      <td>Female</td>\n      <td>41</td>\n      <td>1</td>\n      <td>83807.86</td>\n      <td>1</td>\n      <td>0</td>\n      <td>1</td>\n      <td>112542.58</td>\n      <td>0</td>\n    </tr>\n    <tr>\n      <th>2</th>\n      <td>502</td>\n      <td>France</td>\n      <td>Female</td>\n      <td>42</td>\n      <td>8</td>\n      <td>159660.80</td>\n      <td>3</td>\n      <td>1</td>\n      <td>0</td>\n      <td>113931.57</td>\n      <td>1</td>\n    </tr>\n    <tr>\n      <th>3</th>\n      <td>699</td>\n      <td>France</td>\n      <td>Female</td>\n      <td>39</td>\n      <td>1</td>\n      <td>0.00</td>\n      <td>2</td>\n      <td>0</td>\n      <td>0</td>\n      <td>93826.63</td>\n      <td>0</td>\n    </tr>\n    <tr>\n      <th>4</th>\n      <td>850</td>\n      <td>Spain</td>\n      <td>Female</td>\n      <td>43</td>\n      <td>2</td>\n      <td>125510.82</td>\n      <td>1</td>\n      <td>1</td>\n      <td>1</td>\n      <td>79084.10</td>\n      <td>0</td>\n    </tr>\n  </tbody>\n</table>\n</div>"
     },
     "execution_count": 9,
     "metadata": {},
     "output_type": "execute_result"
    }
   ],
   "source": [
    "df.head()"
   ],
   "metadata": {
    "collapsed": false,
    "ExecuteTime": {
     "end_time": "2023-09-15T11:18:13.749730100Z",
     "start_time": "2023-09-15T11:18:13.670783700Z"
    }
   },
   "id": "8651cc81595f833e"
  },
  {
   "cell_type": "code",
   "execution_count": 10,
   "outputs": [],
   "source": [
    "df = pd.get_dummies(df , columns = ['Geography' , 'Gender'] , drop_first = True) "
   ],
   "metadata": {
    "collapsed": false,
    "ExecuteTime": {
     "end_time": "2023-09-15T11:18:13.953673100Z",
     "start_time": "2023-09-15T11:18:13.828299200Z"
    }
   },
   "id": "5ca388c4c498c2df"
  },
  {
   "cell_type": "code",
   "execution_count": 11,
   "outputs": [],
   "source": [
    "from sklearn.model_selection import train_test_split"
   ],
   "metadata": {
    "collapsed": false,
    "ExecuteTime": {
     "end_time": "2023-09-15T11:18:14.244105100Z",
     "start_time": "2023-09-15T11:18:14.032562500Z"
    }
   },
   "id": "3a0c000a865e1779"
  },
  {
   "cell_type": "code",
   "execution_count": 12,
   "outputs": [],
   "source": [
    "x = df.drop(columns=['Exited'])\n",
    "y = df['Exited']\n",
    "\n",
    "x_train , x_test , y_train, y_test = train_test_split(x , y , test_size = 0.2 , random_state = 1)"
   ],
   "metadata": {
    "collapsed": false,
    "ExecuteTime": {
     "end_time": "2023-09-15T11:18:14.313915500Z",
     "start_time": "2023-09-15T11:18:14.212510300Z"
    }
   },
   "id": "63faf7dc3be93c0b"
  },
  {
   "cell_type": "code",
   "execution_count": 13,
   "outputs": [
    {
     "name": "stdout",
     "output_type": "stream",
     "text": [
      "(8000, 11) (2000, 11) (8000,) (2000,)\n"
     ]
    }
   ],
   "source": [
    "print(x_train.shape , x_test.shape , y_train.shape , y_test.shape)"
   ],
   "metadata": {
    "collapsed": false,
    "ExecuteTime": {
     "end_time": "2023-09-15T11:18:14.400559700Z",
     "start_time": "2023-09-15T11:18:14.306603800Z"
    }
   },
   "id": "cda80d18fe3650fd"
  },
  {
   "cell_type": "code",
   "execution_count": 14,
   "outputs": [],
   "source": [
    "from sklearn.preprocessing import StandardScaler\n",
    "\n",
    "scaler = StandardScaler()\n",
    "\n",
    "x_train_scaled = scaler.fit_transform(x_train)\n",
    "x_test_scaled = scaler.transform(x_test)"
   ],
   "metadata": {
    "collapsed": false,
    "ExecuteTime": {
     "end_time": "2023-09-15T11:18:14.532063900Z",
     "start_time": "2023-09-15T11:18:14.493732500Z"
    }
   },
   "id": "b560d4f0c836e0d6"
  },
  {
   "cell_type": "code",
   "execution_count": 15,
   "outputs": [
    {
     "data": {
      "text/plain": "array([[-0.23082038, -0.94449979, -0.70174202, ...,  1.71490137,\n        -0.57273139,  0.91509065],\n       [-0.25150912, -0.94449979, -0.35520275, ..., -0.58312392,\n        -0.57273139, -1.09278791],\n       [-0.3963303 ,  0.77498705,  0.33787579, ...,  1.71490137,\n        -0.57273139, -1.09278791],\n       ...,\n       [ 0.22433188,  0.58393295,  1.3774936 , ..., -0.58312392,\n        -0.57273139, -1.09278791],\n       [ 0.13123255,  0.01077067,  1.03095433, ..., -0.58312392,\n        -0.57273139, -1.09278791],\n       [ 1.1656695 ,  0.29735181,  0.33787579, ...,  1.71490137,\n        -0.57273139,  0.91509065]])"
     },
     "execution_count": 15,
     "metadata": {},
     "output_type": "execute_result"
    }
   ],
   "source": [
    "x_train_scaled"
   ],
   "metadata": {
    "collapsed": false,
    "ExecuteTime": {
     "end_time": "2023-09-15T11:18:14.666814700Z",
     "start_time": "2023-09-15T11:18:14.635012500Z"
    }
   },
   "id": "9d7a70d170cfe097"
  },
  {
   "cell_type": "code",
   "execution_count": 16,
   "outputs": [],
   "source": [
    "import tensorflow\n",
    "from tensorflow import keras\n",
    "from keras import Sequential\n",
    "from keras.layers import Dense"
   ],
   "metadata": {
    "collapsed": false,
    "ExecuteTime": {
     "end_time": "2023-09-15T11:18:18.467638800Z",
     "start_time": "2023-09-15T11:18:14.808766700Z"
    }
   },
   "id": "ee6ecc0411e85880"
  },
  {
   "cell_type": "code",
   "execution_count": 17,
   "outputs": [],
   "source": [
    "model = Sequential()\n",
    "\n",
    "model.add(Dense(20 ,activation = 'relu' , input_dim = 11 , name = \"hidden_layer1\"))\n",
    "model.add(Dense(20 , activation = 'relu' , name = \"hidden_layer2\"))\n",
    "model.add(Dense(20 , activation = 'relu' , name = \"hidden_layer3\"))\n",
    "model.add(Dense(20 , activation = 'relu' , name = \"hidden_layer4\"))\n",
    "model.add(Dense(1 ,activation = 'sigmoid' , name = \"output_layer\"))"
   ],
   "metadata": {
    "collapsed": false,
    "ExecuteTime": {
     "end_time": "2023-09-15T11:18:18.595790700Z",
     "start_time": "2023-09-15T11:18:18.467638800Z"
    }
   },
   "id": "7b2a77eb819f8f51"
  },
  {
   "cell_type": "code",
   "execution_count": 18,
   "outputs": [
    {
     "name": "stdout",
     "output_type": "stream",
     "text": [
      "Model: \"sequential\"\n",
      "_________________________________________________________________\n",
      " Layer (type)                Output Shape              Param #   \n",
      "=================================================================\n",
      " hidden_layer1 (Dense)       (None, 20)                240       \n",
      "                                                                 \n",
      " hidden_layer2 (Dense)       (None, 20)                420       \n",
      "                                                                 \n",
      " hidden_layer3 (Dense)       (None, 20)                420       \n",
      "                                                                 \n",
      " hidden_layer4 (Dense)       (None, 20)                420       \n",
      "                                                                 \n",
      " output_layer (Dense)        (None, 1)                 21        \n",
      "                                                                 \n",
      "=================================================================\n",
      "Total params: 1521 (5.94 KB)\n",
      "Trainable params: 1521 (5.94 KB)\n",
      "Non-trainable params: 0 (0.00 Byte)\n",
      "_________________________________________________________________\n"
     ]
    }
   ],
   "source": [
    "model.summary()"
   ],
   "metadata": {
    "collapsed": false,
    "ExecuteTime": {
     "end_time": "2023-09-15T11:18:18.627370400Z",
     "start_time": "2023-09-15T11:18:18.592222300Z"
    }
   },
   "id": "790babeff058e906"
  },
  {
   "cell_type": "code",
   "execution_count": 19,
   "outputs": [],
   "source": [
    "model.compile(loss = 'binary_crossentropy' , optimizer = 'Adam', metrics = ['accuracy'])"
   ],
   "metadata": {
    "collapsed": false,
    "ExecuteTime": {
     "end_time": "2023-09-15T11:18:18.627370400Z",
     "start_time": "2023-09-15T11:18:18.611486500Z"
    }
   },
   "id": "813a5f2c2b1c36c0"
  },
  {
   "cell_type": "code",
   "execution_count": 30,
   "outputs": [
    {
     "name": "stdout",
     "output_type": "stream",
     "text": [
      "Epoch 1/10\n",
      "200/200 [==============================] - 0s 2ms/step - loss: 0.1037 - accuracy: 0.9563 - val_loss: 1.5317 - val_accuracy: 0.7869\n",
      "Epoch 2/10\n",
      "200/200 [==============================] - 0s 1ms/step - loss: 0.1041 - accuracy: 0.9570 - val_loss: 1.5461 - val_accuracy: 0.7981\n",
      "Epoch 3/10\n",
      "200/200 [==============================] - 0s 1ms/step - loss: 0.1047 - accuracy: 0.9577 - val_loss: 1.6083 - val_accuracy: 0.7856\n",
      "Epoch 4/10\n",
      "200/200 [==============================] - 0s 1ms/step - loss: 0.1100 - accuracy: 0.9556 - val_loss: 1.5392 - val_accuracy: 0.7994\n",
      "Epoch 5/10\n",
      "200/200 [==============================] - 0s 1ms/step - loss: 0.1011 - accuracy: 0.9602 - val_loss: 1.5876 - val_accuracy: 0.8169\n",
      "Epoch 6/10\n",
      "200/200 [==============================] - 0s 1ms/step - loss: 0.1015 - accuracy: 0.9563 - val_loss: 1.5863 - val_accuracy: 0.8000\n",
      "Epoch 7/10\n",
      "200/200 [==============================] - 0s 1ms/step - loss: 0.1010 - accuracy: 0.9575 - val_loss: 1.6626 - val_accuracy: 0.7912\n",
      "Epoch 8/10\n",
      "200/200 [==============================] - 0s 1ms/step - loss: 0.1049 - accuracy: 0.9569 - val_loss: 1.5747 - val_accuracy: 0.8075\n",
      "Epoch 9/10\n",
      "200/200 [==============================] - 0s 1ms/step - loss: 0.0989 - accuracy: 0.9614 - val_loss: 1.5251 - val_accuracy: 0.7944\n",
      "Epoch 10/10\n",
      "200/200 [==============================] - 0s 2ms/step - loss: 0.1096 - accuracy: 0.9553 - val_loss: 1.6240 - val_accuracy: 0.8087\n"
     ]
    },
    {
     "data": {
      "text/plain": "<keras.src.callbacks.History at 0x2a4d6bf9450>"
     },
     "execution_count": 30,
     "metadata": {},
     "output_type": "execute_result"
    }
   ],
   "source": [
    "model.fit(x_train_scaled , y_train , epochs = 10 ,validation_split = 0.2 )"
   ],
   "metadata": {
    "collapsed": false,
    "ExecuteTime": {
     "end_time": "2023-09-15T11:24:48.185479800Z",
     "start_time": "2023-09-15T11:24:45.231211500Z"
    }
   },
   "id": "d09b61aa198c734d"
  },
  {
   "cell_type": "code",
   "execution_count": 31,
   "outputs": [
    {
     "data": {
      "text/plain": "[array([[ 4.48416740e-01,  3.12044501e-01, -4.39458907e-01,\n         -3.32582772e-01, -1.09925112e-02, -3.65138441e-01,\n         -4.29572493e-01,  3.51756334e-01,  6.40402615e-01,\n         -8.33236277e-02,  8.39801073e-01, -2.37530217e-01,\n         -9.11737084e-02,  5.77011168e-01, -7.35197589e-02,\n         -1.04309666e+00,  3.20955694e-01, -4.46529418e-01,\n         -7.37863362e-01, -6.82025611e-01],\n        [ 9.61093426e-01, -4.86777127e-01, -1.57860494e+00,\n         -9.60640192e-01,  9.59252536e-01,  1.08469880e+00,\n          1.75260663e-01, -7.75980294e-01, -2.39912227e-01,\n         -4.53970820e-01,  5.65907001e-01, -8.77840459e-01,\n          1.25365034e-01,  9.52626407e-01,  8.86645794e-01,\n         -1.16406284e-01, -2.43427619e-01, -1.21786940e+00,\n         -5.59524059e-01, -1.30821705e-01],\n        [-1.03330866e-01, -9.58471358e-01,  4.57381606e-01,\n         -3.02252501e-01, -7.91006815e-03, -7.52011120e-01,\n          5.02657831e-01, -5.10097980e-01,  4.14928019e-01,\n          7.52989471e-01, -4.04339284e-01, -8.08585659e-02,\n         -5.02059758e-02, -2.96865910e-01,  1.24081701e-01,\n          3.64483297e-01,  8.67019832e-01, -7.26744473e-01,\n         -7.46009350e-01, -4.70339596e-01],\n        [-4.68186706e-01,  1.17535464e-01,  9.18085337e-01,\n         -7.70971358e-01,  4.93350834e-01, -7.44412363e-01,\n          4.59001333e-01,  5.06248415e-01, -8.99180532e-01,\n          3.20803262e-02,  8.34273040e-01, -3.18832253e-03,\n          1.08160019e+00, -5.06520092e-01, -1.93820253e-01,\n          9.57957387e-01, -5.05516827e-01, -6.76894128e-01,\n         -1.31043625e+00, -6.29824936e-01],\n        [-4.21931595e-01,  4.01199937e-01,  5.15605748e-01,\n          3.35094601e-01,  1.48888373e+00, -8.33890438e-01,\n         -5.47301590e-01,  7.25673139e-01, -1.99730039e-01,\n          6.74950480e-01, -1.09524131e+00, -3.10862303e-01,\n          1.31140232e+00,  1.38584900e+00,  1.91321865e-01,\n         -3.66534442e-01, -4.94907144e-05, -8.27239573e-01,\n          1.01554132e+00, -8.42001438e-01],\n        [ 1.97359651e-01, -1.74610332e-01, -5.85890949e-01,\n         -4.37415004e-01, -4.51007456e-01, -9.93047208e-02,\n          1.08831191e+00,  1.79286182e-01,  2.73286074e-01,\n          1.13358545e+00,  3.06642920e-01,  6.11651599e-01,\n          6.20552778e-01,  3.67276311e-01, -4.38440144e-01,\n         -7.87770808e-01, -9.87631202e-01,  1.01663347e-04,\n          1.59613550e-01, -5.29091619e-02],\n        [-4.53630060e-01, -7.44729578e-01, -6.83547556e-01,\n          2.73781478e-01, -2.21867368e-01, -4.22671497e-01,\n         -1.45861372e-01,  6.20212078e-01, -2.85769403e-01,\n         -5.89562654e-01, -4.26507205e-01,  3.20274204e-01,\n          6.71537369e-02,  6.23836741e-02,  1.49195564e+00,\n         -3.40275973e-01,  1.44697845e-01, -6.83739543e-01,\n         -9.23304632e-02, -2.41654113e-01],\n        [ 1.30902633e-01, -8.51624683e-02,  2.16601536e-01,\n         -2.62554824e-01, -2.06019759e-01, -1.23730510e-01,\n         -7.02866375e-01,  6.87631369e-01,  7.39162385e-01,\n         -2.92884380e-01,  2.17429191e-01, -4.81592327e-01,\n          2.97664925e-02, -6.46644711e-01, -1.71332434e-03,\n          4.47269827e-01, -5.30574501e-01,  5.91737740e-02,\n          1.91557873e-02,  2.61120081e-01],\n        [-7.28810847e-01,  9.39806640e-01, -4.97914255e-01,\n         -3.81444305e-01,  3.39660436e-01,  5.58093548e-01,\n         -1.83651403e-01, -4.32872511e-02, -7.28603542e-01,\n         -3.09939571e-02,  5.62464774e-01, -1.27343738e+00,\n         -6.29090667e-01,  6.95208833e-02,  3.10740948e-01,\n          4.90175098e-01,  6.83644295e-01,  1.03500748e+00,\n          4.11573738e-01, -3.60534191e-01],\n        [ 2.65088528e-01, -2.51007557e-01, -3.05061430e-01,\n          5.54747641e-01,  3.37681711e-01, -3.27793695e-02,\n          7.10629821e-01,  5.96737713e-02, -4.13819492e-01,\n         -2.11873472e-01, -9.17689800e-01, -6.84378386e-01,\n          7.86352456e-02,  9.76544060e-03, -2.02273026e-01,\n          6.43495321e-01,  2.30517179e-01, -3.09300125e-01,\n          9.23804939e-01, -4.70876157e-01],\n        [-8.49320412e-01,  6.83119953e-01, -3.64733428e-01,\n         -2.83576459e-01, -3.30951959e-01,  5.38636029e-01,\n          2.84372002e-01, -1.12247027e-01, -1.33148551e-01,\n          4.97584492e-01,  2.93255180e-01,  6.19414747e-01,\n         -6.90916330e-02,  4.63413179e-01,  2.91346580e-01,\n         -3.45054328e-01,  1.39275026e-02, -4.42851633e-02,\n          2.72917181e-01, -2.20987365e-01]], dtype=float32),\n array([-0.60432327,  0.37989044,  0.360864  ,  0.6923275 ,  0.13533206,\n        -0.19621491,  0.0454874 ,  0.52943367, -0.06843776,  0.1034459 ,\n        -0.71327883,  0.16564362, -0.4004941 , -0.11972956, -0.26790294,\n         0.25105682,  0.6292281 ,  0.15719691,  0.02000952,  0.14081262],\n       dtype=float32)]"
     },
     "execution_count": 31,
     "metadata": {},
     "output_type": "execute_result"
    }
   ],
   "source": [
    "model.layers[0].get_weights()"
   ],
   "metadata": {
    "collapsed": false,
    "ExecuteTime": {
     "end_time": "2023-09-15T11:24:48.188119500Z",
     "start_time": "2023-09-15T11:24:48.177965900Z"
    }
   },
   "id": "a44a5a14622c4a2b"
  },
  {
   "cell_type": "markdown",
   "source": [],
   "metadata": {
    "collapsed": false
   },
   "id": "fb3c0a8f080c3ff6"
  },
  {
   "cell_type": "code",
   "execution_count": 32,
   "outputs": [
    {
     "name": "stdout",
     "output_type": "stream",
     "text": [
      "63/63 [==============================] - 0s 756us/step\n"
     ]
    }
   ],
   "source": [
    "y_log = model.predict(x_test_scaled)"
   ],
   "metadata": {
    "collapsed": false,
    "ExecuteTime": {
     "end_time": "2023-09-15T11:24:48.318799500Z",
     "start_time": "2023-09-15T11:24:48.188119500Z"
    }
   },
   "id": "d3f33f61cabb67cb"
  },
  {
   "cell_type": "code",
   "execution_count": 33,
   "outputs": [],
   "source": [
    "y_pred = np.where(y_log>0.5,1,0)"
   ],
   "metadata": {
    "collapsed": false,
    "ExecuteTime": {
     "end_time": "2023-09-15T11:24:48.323232100Z",
     "start_time": "2023-09-15T11:24:48.321450300Z"
    }
   },
   "id": "3f3a29e4834df5ac"
  },
  {
   "cell_type": "code",
   "execution_count": 34,
   "outputs": [
    {
     "data": {
      "text/plain": "0.806"
     },
     "execution_count": 34,
     "metadata": {},
     "output_type": "execute_result"
    }
   ],
   "source": [
    "from sklearn.metrics import accuracy_score\n",
    "\n",
    "accuracy_score(y_test ,y_pred)"
   ],
   "metadata": {
    "collapsed": false,
    "ExecuteTime": {
     "end_time": "2023-09-15T11:24:48.330152800Z",
     "start_time": "2023-09-15T11:24:48.323232100Z"
    }
   },
   "id": "628dcbb61365d35"
  },
  {
   "cell_type": "code",
   "execution_count": 24,
   "outputs": [],
   "source": [],
   "metadata": {
    "collapsed": false,
    "ExecuteTime": {
     "end_time": "2023-09-15T11:18:48.254499500Z",
     "start_time": "2023-09-15T11:18:48.254499500Z"
    }
   },
   "id": "f7f62132bd5d0468"
  },
  {
   "cell_type": "code",
   "execution_count": null,
   "outputs": [],
   "source": [],
   "metadata": {
    "collapsed": false
   },
   "id": "5f12c55b5d7b1569"
  }
 ],
 "metadata": {
  "kernelspec": {
   "display_name": "Python 3",
   "language": "python",
   "name": "python3"
  },
  "language_info": {
   "codemirror_mode": {
    "name": "ipython",
    "version": 2
   },
   "file_extension": ".py",
   "mimetype": "text/x-python",
   "name": "python",
   "nbconvert_exporter": "python",
   "pygments_lexer": "ipython2",
   "version": "2.7.6"
  }
 },
 "nbformat": 4,
 "nbformat_minor": 5
}
