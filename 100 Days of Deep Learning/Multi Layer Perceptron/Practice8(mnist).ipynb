{
 "cells": [
  {
   "cell_type": "code",
   "execution_count": 6,
   "id": "initial_id",
   "metadata": {
    "collapsed": true,
    "ExecuteTime": {
     "end_time": "2023-09-16T11:29:23.640856500Z",
     "start_time": "2023-09-16T11:29:23.640856500Z"
    }
   },
   "outputs": [],
   "source": [
    "import keras\n",
    "from keras.layers import Flatten , Dense\n",
    "from keras import Sequential"
   ]
  },
  {
   "cell_type": "code",
   "execution_count": 7,
   "outputs": [],
   "source": [
    "(x_train , y_train) , (x_test , y_test) = keras.datasets.mnist.load_data()"
   ],
   "metadata": {
    "collapsed": false,
    "ExecuteTime": {
     "end_time": "2023-09-16T11:29:24.761251600Z",
     "start_time": "2023-09-16T11:29:24.537250Z"
    }
   },
   "id": "39a8b17a43b9a17"
  },
  {
   "cell_type": "code",
   "execution_count": 9,
   "outputs": [],
   "source": [
    "x_train = x_train/255\n",
    "x_test = x_test/255"
   ],
   "metadata": {
    "collapsed": false,
    "ExecuteTime": {
     "end_time": "2023-09-16T11:29:41.953942Z",
     "start_time": "2023-09-16T11:29:41.765249300Z"
    }
   },
   "id": "44c3da48063c1dd3"
  },
  {
   "cell_type": "code",
   "execution_count": 12,
   "outputs": [
    {
     "name": "stdout",
     "output_type": "stream",
     "text": [
      "5\n"
     ]
    },
    {
     "data": {
      "text/plain": "<Figure size 640x480 with 1 Axes>",
      "image/png": "[encoded data removed]"
     },
     "metadata": {},
     "output_type": "display_data"
    }
   ],
   "source": [
    "import matplotlib.pyplot as plt\n",
    "\n",
    "plt.imshow(x_train[0])\n",
    "print(y_train[0])"
   ],
   "metadata": {
    "collapsed": false,
    "ExecuteTime": {
     "end_time": "2023-09-16T11:30:25.569845300Z",
     "start_time": "2023-09-16T11:30:25.442359400Z"
    }
   },
   "id": "667a9f5256d2b025"
  },
  {
   "cell_type": "code",
   "execution_count": 15,
   "outputs": [],
   "source": [
    "model  = Sequential()\n",
    "model.add(Flatten( input_shape =(28 , 28)))\n",
    "model.add(Dense(128 , activation = 'relu'))\n",
    "model.add(Dense(62 , activation = 'relu'))\n",
    "model.add(Dense(10 , activation = 'softmax'))"
   ],
   "metadata": {
    "collapsed": false,
    "ExecuteTime": {
     "end_time": "2023-09-16T11:36:16.074402900Z",
     "start_time": "2023-09-16T11:36:16.013842300Z"
    }
   },
   "id": "9bbfab3b684d395e"
  },
  {
   "cell_type": "code",
   "execution_count": 16,
   "outputs": [],
   "source": [
    "model.compile(loss = 'sparse_categorical_crossentropy' , optimizer = 'Adam' , metrics = ['accuracy'])"
   ],
   "metadata": {
    "collapsed": false,
    "ExecuteTime": {
     "end_time": "2023-09-16T11:36:51.537093100Z",
     "start_time": "2023-09-16T11:36:51.505461700Z"
    }
   },
   "id": "3befb985ee2cb494"
  },
  {
   "cell_type": "code",
   "execution_count": 17,
   "outputs": [
    {
     "name": "stdout",
     "output_type": "stream",
     "text": [
      "Epoch 1/20\n",
      "1500/1500 [==============================] - 3s 2ms/step - loss: 0.2636 - accuracy: 0.9238 - val_loss: 0.1366 - val_accuracy: 0.9619\n",
      "Epoch 2/20\n",
      "1500/1500 [==============================] - 3s 2ms/step - loss: 0.1088 - accuracy: 0.9678 - val_loss: 0.1144 - val_accuracy: 0.9659\n",
      "Epoch 3/20\n",
      "1500/1500 [==============================] - 3s 2ms/step - loss: 0.0760 - accuracy: 0.9770 - val_loss: 0.0985 - val_accuracy: 0.9715\n",
      "Epoch 4/20\n",
      "1500/1500 [==============================] - 3s 2ms/step - loss: 0.0580 - accuracy: 0.9821 - val_loss: 0.0849 - val_accuracy: 0.9749\n",
      "Epoch 5/20\n",
      "1500/1500 [==============================] - 3s 2ms/step - loss: 0.0449 - accuracy: 0.9856 - val_loss: 0.0894 - val_accuracy: 0.9762\n",
      "Epoch 6/20\n",
      "1500/1500 [==============================] - 3s 2ms/step - loss: 0.0363 - accuracy: 0.9877 - val_loss: 0.0973 - val_accuracy: 0.9738\n",
      "Epoch 7/20\n",
      "1500/1500 [==============================] - 3s 2ms/step - loss: 0.0291 - accuracy: 0.9907 - val_loss: 0.1052 - val_accuracy: 0.9729\n",
      "Epoch 8/20\n",
      "1500/1500 [==============================] - 3s 2ms/step - loss: 0.0260 - accuracy: 0.9911 - val_loss: 0.1177 - val_accuracy: 0.9714\n",
      "Epoch 9/20\n",
      "1500/1500 [==============================] - 3s 2ms/step - loss: 0.0219 - accuracy: 0.9927 - val_loss: 0.1099 - val_accuracy: 0.9754\n",
      "Epoch 10/20\n",
      "1500/1500 [==============================] - 3s 2ms/step - loss: 0.0193 - accuracy: 0.9936 - val_loss: 0.1231 - val_accuracy: 0.9731\n",
      "Epoch 11/20\n",
      "1500/1500 [==============================] - 3s 2ms/step - loss: 0.0174 - accuracy: 0.9945 - val_loss: 0.1295 - val_accuracy: 0.9729\n",
      "Epoch 12/20\n",
      "1500/1500 [==============================] - 3s 2ms/step - loss: 0.0177 - accuracy: 0.9941 - val_loss: 0.1174 - val_accuracy: 0.9760\n",
      "Epoch 13/20\n",
      "1500/1500 [==============================] - 3s 2ms/step - loss: 0.0117 - accuracy: 0.9959 - val_loss: 0.1172 - val_accuracy: 0.9772\n",
      "Epoch 14/20\n",
      "1500/1500 [==============================] - 3s 2ms/step - loss: 0.0137 - accuracy: 0.9951 - val_loss: 0.1264 - val_accuracy: 0.9751\n",
      "Epoch 15/20\n",
      "1500/1500 [==============================] - 3s 2ms/step - loss: 0.0121 - accuracy: 0.9962 - val_loss: 0.1245 - val_accuracy: 0.9791\n",
      "Epoch 16/20\n",
      "1500/1500 [==============================] - 3s 2ms/step - loss: 0.0109 - accuracy: 0.9963 - val_loss: 0.1511 - val_accuracy: 0.9729\n",
      "Epoch 17/20\n",
      "1500/1500 [==============================] - 3s 2ms/step - loss: 0.0127 - accuracy: 0.9961 - val_loss: 0.1424 - val_accuracy: 0.9734\n",
      "Epoch 18/20\n",
      "1500/1500 [==============================] - 3s 2ms/step - loss: 0.0094 - accuracy: 0.9966 - val_loss: 0.1422 - val_accuracy: 0.9771\n",
      "Epoch 19/20\n",
      "1500/1500 [==============================] - 3s 2ms/step - loss: 0.0109 - accuracy: 0.9966 - val_loss: 0.1486 - val_accuracy: 0.9768\n",
      "Epoch 20/20\n",
      "1500/1500 [==============================] - 3s 2ms/step - loss: 0.0084 - accuracy: 0.9972 - val_loss: 0.1389 - val_accuracy: 0.9781\n"
     ]
    }
   ],
   "source": [
    "history = model.fit(x_train , y_train , epochs= 20 , validation_split = 0.2)"
   ],
   "metadata": {
    "collapsed": false,
    "ExecuteTime": {
     "end_time": "2023-09-16T11:38:12.788437200Z",
     "start_time": "2023-09-16T11:37:16.177359100Z"
    }
   },
   "id": "67bd669ddcbea036"
  },
  {
   "cell_type": "code",
   "execution_count": 18,
   "outputs": [
    {
     "name": "stdout",
     "output_type": "stream",
     "text": [
      "313/313 [==============================] - 0s 943us/step\n"
     ]
    }
   ],
   "source": [
    "y_prob = model.predict(x_test)\n",
    "y_pred = y_prob.argmax(axis = 1)"
   ],
   "metadata": {
    "collapsed": false,
    "ExecuteTime": {
     "end_time": "2023-09-16T11:38:13.357651100Z",
     "start_time": "2023-09-16T11:38:12.788437200Z"
    }
   },
   "id": "e3e56b350d512000"
  },
  {
   "cell_type": "code",
   "execution_count": 19,
   "outputs": [
    {
     "data": {
      "text/plain": "0.9792"
     },
     "execution_count": 19,
     "metadata": {},
     "output_type": "execute_result"
    }
   ],
   "source": [
    "from sklearn.metrics import accuracy_score\n",
    "accuracy_score(y_test , y_pred)"
   ],
   "metadata": {
    "collapsed": false,
    "ExecuteTime": {
     "end_time": "2023-09-16T11:38:17.459641Z",
     "start_time": "2023-09-16T11:38:16.969172800Z"
    }
   },
   "id": "68fe7e983a156823"
  },
  {
   "cell_type": "code",
   "execution_count": 21,
   "outputs": [
    {
     "name": "stdout",
     "output_type": "stream",
     "text": [
      "1/1 [==============================] - 0s 47ms/step\n",
      "[6]\n"
     ]
    },
    {
     "data": {
      "text/plain": "<Figure size 640x480 with 1 Axes>",
      "image/png": "[encoded data removed]"
     },
     "metadata": {},
     "output_type": "display_data"
    }
   ],
   "source": [
    "plt.imshow(x_test[100])\n",
    "y_prob = model.predict(x_test[100].reshape(1 , -1))\n",
    "y_pred = y_prob.argmax(axis = 1)\n",
    "print(y_pred)"
   ],
   "metadata": {
    "collapsed": false,
    "ExecuteTime": {
     "end_time": "2023-09-16T11:39:30.491488300Z",
     "start_time": "2023-09-16T11:39:30.256716600Z"
    }
   },
   "id": "4707208e7e042f2a"
  },
  {
   "cell_type": "code",
   "execution_count": 23,
   "outputs": [
    {
     "data": {
      "text/plain": "<matplotlib.legend.Legend at 0x199c9a659d0>"
     },
     "execution_count": 23,
     "metadata": {},
     "output_type": "execute_result"
    },
    {
     "data": {
      "text/plain": "<Figure size 640x480 with 1 Axes>",
      "image/png": "[encoded data removed]"
     },
     "metadata": {},
     "output_type": "display_data"
    }
   ],
   "source": [
    "plt.plot(history.history['accuracy'] , label = 'accuracy')\n",
    "plt.plot(history.history['val_accuracy'] , label = 'validation accuracy')\n",
    "plt.legend()"
   ],
   "metadata": {
    "collapsed": false,
    "ExecuteTime": {
     "end_time": "2023-09-16T11:40:42.995196200Z",
     "start_time": "2023-09-16T11:40:42.809100100Z"
    }
   },
   "id": "17ec67a899bff45b"
  },
  {
   "cell_type": "code",
   "execution_count": null,
   "outputs": [],
   "source": [],
   "metadata": {
    "collapsed": false
   },
   "id": "161b4378c99b3d2a"
  }
 ],
 "metadata": {
  "kernelspec": {
   "display_name": "Python 3",
   "language": "python",
   "name": "python3"
  },
  "language_info": {
   "codemirror_mode": {
    "name": "ipython",
    "version": 2
   },
   "file_extension": ".py",
   "mimetype": "text/x-python",
   "name": "python",
   "nbconvert_exporter": "python",
   "pygments_lexer": "ipython2",
   "version": "2.7.6"
  }
 },
 "nbformat": 4,
 "nbformat_minor": 5
}
